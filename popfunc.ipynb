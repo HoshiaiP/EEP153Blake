{
 "cells": [
  {
   "cell_type": "code",
   "execution_count": 1,
   "metadata": {
    "scrolled": true
   },
   "outputs": [
    {
     "name": "stdout",
     "output_type": "stream",
     "text": [
      "Collecting wbdata\n",
      "  Using cached wbdata-0.3.0-py3-none-any.whl (14 kB)\n",
      "Requirement already satisfied: tabulate>=0.8.5 in /opt/conda/lib/python3.9/site-packages (from wbdata) (0.9.0)\n",
      "Requirement already satisfied: requests>=2.0 in /opt/conda/lib/python3.9/site-packages (from wbdata) (2.26.0)\n",
      "Requirement already satisfied: appdirs<2.0,>=1.4 in /opt/conda/lib/python3.9/site-packages (from wbdata) (1.4.4)\n",
      "Requirement already satisfied: decorator>=4.0 in /opt/conda/lib/python3.9/site-packages (from wbdata) (5.0.9)\n",
      "Requirement already satisfied: certifi>=2017.4.17 in /opt/conda/lib/python3.9/site-packages (from requests>=2.0->wbdata) (2021.10.8)\n",
      "Requirement already satisfied: idna<4,>=2.5 in /opt/conda/lib/python3.9/site-packages (from requests>=2.0->wbdata) (3.1)\n",
      "Requirement already satisfied: charset-normalizer~=2.0.0 in /opt/conda/lib/python3.9/site-packages (from requests>=2.0->wbdata) (2.0.0)\n",
      "Requirement already satisfied: urllib3<1.27,>=1.21.1 in /opt/conda/lib/python3.9/site-packages (from requests>=2.0->wbdata) (1.26.7)\n",
      "Installing collected packages: wbdata\n",
      "Successfully installed wbdata-0.3.0\n"
     ]
    }
   ],
   "source": [
    "!pip install wbdata\n",
    "import wbdata\n",
    "\n",
    "from plotly.offline import init_notebook_mode, iplot\n",
    "\n",
    "import numpy as np\n",
    "import matplotlib.pyplot as plt\n",
    "import seaborn as sns\n",
    "import plotly.express as px"
   ]
  },
  {
   "cell_type": "markdown",
   "metadata": {},
   "source": []
  },
  {
   "cell_type": "code",
   "execution_count": 52,
   "metadata": {},
   "outputs": [
    {
     "data": {
      "text/plain": [
       "32751362.4"
      ]
     },
     "execution_count": 52,
     "metadata": {},
     "output_type": "execute_result"
    }
   ],
   "source": [
    "# population(year=2000,sex='Male',age_range=(0,100),place='WLD')\n",
    "def population(year, sex, age_range, place):\n",
    "    \n",
    "    age_bins = [age_range[0], age_range[1]]\n",
    "    \n",
    "    # find the age ranges required\n",
    "    age_ranges = []\n",
    "\n",
    "    # Obtain lower end of lower age range\n",
    "    if age_bins[0] % 5 != 0:\n",
    "        age = 0\n",
    "        while age_bins[0] - 5 > age:\n",
    "            age = age + 5\n",
    "        age_bins[0] = age\n",
    "    \n",
    "    # Ranges top out at 80, and go in five year increments\n",
    "    for i in range(age_bins[0],age_bins[1],5):\n",
    "        age_ranges.append(f\"{i:02d}\"+f\"{i+4:02d}\")\n",
    "\n",
    "    if age_bins[1] >= 80:\n",
    "        age_ranges.append(\"80UP\")\n",
    "    \n",
    "    # determine indicators (age range + sex)\n",
    "    variables = {}\n",
    "    if sex=='Male':\n",
    "        variables = {\"SP.POP.\"+age_range+\".MA\":\"Males \"+age_range for age_range in age_ranges}\n",
    "    elif sex=='Female':\n",
    "        variables = {\"SP.POP.\"+age_range+\".FE\":\"Females \"+age_range for age_range in age_ranges}\n",
    "    else:\n",
    "        variables = {\"SP.POP.\"+age_range+\".MA\":\"Males \"+age_range for age_range in age_ranges}\n",
    "        f_variables = {\"SP.POP.\"+age_range+\".FE\":\"Females \"+age_range for age_range in age_ranges}\n",
    "        variables.update(f_variables)\n",
    "    \n",
    "    # obtain relevant dataframe from wbdata\n",
    "    df = wbdata.get_dataframe(variables, place)\n",
    "    \n",
    "    df = df.reset_index()\n",
    "    df = df[df['date']==str(year)]\n",
    "    \n",
    "    # array of relevant values\n",
    "    pop_array = df.pivot(columns='date').iloc[0]\n",
    "    \n",
    "    lower_bound_yrs = 5 - age_range[0] % 5\n",
    "    upper_bound_yrs = age_range[1] % 5\n",
    "    \n",
    "    #print(pop_array)\n",
    "    \n",
    "    # adjust the 5 year intervals to more accurate ranges\n",
    "    if lower_bound_yrs > 0:\n",
    "        pop_array[0] = pop_array[0] * lower_bound_yrs / 5\n",
    "    if upper_bound_yrs > 0:\n",
    "        pop_array[-1] = pop_array[-1] * upper_bound_yrs / 5\n",
    "    \n",
    "    #print(pop_array)\n",
    "    \n",
    "    return sum(pop_array)\n",
    "\n",
    "population(year=2000, sex='Male', age_range=(1, 3), place='IND')"
   ]
  },
  {
   "cell_type": "code",
   "execution_count": 25,
   "metadata": {},
   "outputs": [
    {
     "data": {
      "text/plain": [
       "<matplotlib.collections.PathCollection at 0x7f89352d9f70>"
      ]
     },
     "execution_count": 25,
     "metadata": {},
     "output_type": "execute_result"
    },
    {
     "data": {
      "image/png": "[encoded data removed]",
      "text/plain": [
       "<Figure size 640x480 with 1 Axes>"
      ]
     },
     "metadata": {},
     "output_type": "display_data"
    }
   ],
   "source": [
    "vars = {\n",
    "    \"SP.DYN.TFRT.IN\": \"Total Fertility Rate\",\n",
    "    \"SE.SEC.ENRR.FE\": \"Secondary School Enrollment (Female, % Gross)\"\n",
    "}\n",
    "\n",
    "school = wbdata.get_dataframe(vars,country='IND').dropna().sort_index()\n",
    "plt.scatter('Total Fertility Rate', 'Secondary School Enrollment (Female, % Gross)', data=school)"
   ]
  },
  {
   "cell_type": "code",
   "execution_count": 3,
   "metadata": {},
   "outputs": [
    {
     "name": "stdout",
     "output_type": "stream",
     "text": [
      "    date  Livestock index  Food index  Crop index    Population\n",
      "0   2021              NaN         NaN         NaN  1.407564e+09\n",
      "1   2020           116.45      116.38      115.29  1.396387e+09\n",
      "2   2019           119.43      115.29      112.91  1.383112e+09\n",
      "3   2018           118.09      115.01      111.82  1.369003e+09\n",
      "4   2017           111.11      108.96      107.48  1.354196e+09\n",
      "..   ...              ...         ...         ...           ...\n",
      "57  1964            16.61       23.86       26.61  4.890593e+08\n",
      "58  1963            16.64       23.31       25.94  4.779336e+08\n",
      "59  1962            16.59       22.80       25.20  4.670242e+08\n",
      "60  1961            16.49       23.13       25.46  4.563519e+08\n",
      "61  1960              NaN         NaN         NaN  4.459546e+08\n",
      "\n",
      "[62 rows x 5 columns]\n"
     ]
    },
    {
     "data": {
      "text/plain": [
       "<matplotlib.legend.Legend at 0x7f894c206e80>"
      ]
     },
     "execution_count": 3,
     "metadata": {},
     "output_type": "execute_result"
    },
    {
     "data": {
      "image/png": "[encoded data removed]",
      "text/plain": [
       "<Figure size 640x480 with 1 Axes>"
      ]
     },
     "metadata": {},
     "output_type": "display_data"
    }
   ],
   "source": [
    "#wbdata.get_indicator()\n",
    "\"\"\"\n",
    "Agriculture Production Indices:\n",
    "\n",
    "AG.PRD.AGRI.XD                                     Agriculture production index (1999-2001 = 100)\n",
    "AG.PRD.BLY.MT                                      Barley production (metric tons)\n",
    "AG.PRD.CREL.MT                                     Cereal production (metric tons)\n",
    "AG.PRD.CREL.XD                                     Cereal production index (1999-2001 = 100)\n",
    "AG.PRD.CROP.XD                                     Crop production index (2014-2016 = 100)\n",
    "AG.PRD.FNO.MT                                      Fonio production (metric tons)\n",
    "AG.PRD.FOOD.XD                                     Food production index (2014-2016 = 100)\n",
    "AG.PRD.GAGRI.XD                                    Agriculture production index (gross, 1999-2001 = 100)\n",
    "AG.PRD.GCREL.XD                                    Cereal production index (gross, 1999-2001 = 100)\n",
    "AG.PRD.GCROP.XD                                    Crop production index (gross, 1999-2001 = 100)\n",
    "AG.PRD.GFOOD.XD                                    Food production index (gross, 1999-2001 = 100)\n",
    "AG.PRD.GLVSK.XD                                    Livestock production index (gross, 1999-2001 = 100)\n",
    "AG.PRD.GNFOOD.XD                                   Non-food production index (gross, 1999-2001 = 100)\n",
    "AG.PRD.LVSK.XD                                     Livestock production index (2014-2016 = 100)\n",
    "AG.PRD.MLT.MT                                      Millet production (metric tons)\n",
    "AG.PRD.MZE.MT                                      Maize production (metric tons)\n",
    "AG.PRD.NFOOD.XD                                    Gross non-food production index (1999-2001 = 100)\n",
    "AG.PRD.RICE.MT                                     Rice production (metric tons)\n",
    "AG.PRD.RTTB.MT                                     Roots and tubers production (metric tons)\n",
    "AG.PRD.SGM.MT                                      Sorghum production (metric tons)\n",
    "AG.PRD.WHT.MT                                      Wheat production (metric tons)\n",
    "\"\"\"\n",
    "\n",
    "vars = {\"AG.PRD.LVSK.XD\":\"Livestock index\",\n",
    "        \"AG.PRD.FOOD.XD\":\"Food index\",\n",
    "        \"AG.PRD.CROP.XD\":\"Crop index\",\n",
    "        \"SP.POP.TOTL\":\"Population\"}\n",
    "\n",
    "\n",
    "ag = wbdata.get_dataframe(vars,country='IND')\n",
    "ag = ag.reset_index()\n",
    "ag['date'] = ag['date'].astype(int)\n",
    "print(ag)\n",
    "\n",
    "lvsk = plt.plot('Population', 'Livestock index', data=ag, label='Livestock')\n",
    "food = plt.plot('Population', 'Food index', data=ag, label='Food')\n",
    "crop = plt.plot('Population', 'Crop index', data=ag, label='Crop')\n",
    "plt.xlabel('Population')\n",
    "plt.ylabel('Production (Base 2014-2016 = 100)')\n",
    "plt.legend()\n",
    "#plt.legend(['Livestock index', 'Food index', 'Crop index'])"
   ]
  },
  {
   "cell_type": "code",
   "execution_count": 7,
   "metadata": {},
   "outputs": [
    {
     "data": {
      "application/vnd.plotly.v1+json": {
       "config": {
        "plotlyServerURL": "https://plot.ly"
       },
       "data": [
        {
         "hovertemplate": "variable=Population<br>Year=%{x}<br>Growth Rate (per year)=%{y}<extra></extra>",
         "legendgroup": "Population",
         "marker": {
          "color": "#636efa",
          "symbol": "circle"
         },
         "mode": "markers",
         "name": "Population",
         "orientation": "v",
         "showlegend": true,
         "type": "scatter",
         "x": [
          1962,
          1963,
          1964,
          1965,
          1966,
          1967,
          1968,
          1969,
          1970,
          1971,
          1972,
          1973,
          1974,
          1975,
          1976,
          1977,
          1978,
          1979,
          1980,
          1981,
          1982,
          1983,
          1984,
          1985,
          1986,
          1987,
          1988,
          1989,
          1990,
          1991,
          1992,
          1993,
          1994,
          1995,
          1996,
          1997,
          1998,
          1999,
          2000,
          2001,
          2002,
          2003,
          2004,
          2005,
          2006,
          2007,
          2008,
          2009,
          2010,
          2011,
          2012,
          2013,
          2014,
          2015,
          2016,
          2017,
          2018,
          2019,
          2020
         ],
         "xaxis": "x",
         "y": [
          0.023116891632000147,
          0.023090788996611877,
          0.023011917955997774,
          0.022352995857310987,
          0.021518377682262724,
          0.02128767358673045,
          0.021688616310761688,
          0.022031572336636884,
          0.02210183277128408,
          0.022170081758453364,
          0.02227430961894683,
          0.022511763068724377,
          0.022582043807990004,
          0.022384572772441658,
          0.022090506141864807,
          0.02208416587098938,
          0.02212935178193476,
          0.022235340611473475,
          0.022612188534669286,
          0.02275892991615791,
          0.022608077794522785,
          0.0225868924622894,
          0.022627550515704087,
          0.022483624013226233,
          0.022352712473789893,
          0.022109460301294348,
          0.0218428179098602,
          0.021692174813665588,
          0.021411405389049065,
          0.02101891053626659,
          0.02074344244723747,
          0.020478373609396527,
          0.020208560198764047,
          0.01991871229020603,
          0.019514355014450757,
          0.01919262595283655,
          0.01887557864681355,
          0.018493332514953664,
          0.01822184002180194,
          0.018084464212375195,
          0.01776767874181573,
          0.017242690322667897,
          0.01672810870228858,
          0.01604129169279389,
          0.015243079604100984,
          0.014663717500152273,
          0.014223915088354744,
          0.013911949303373916,
          0.013775958115978426,
          0.013615880845335937,
          0.013321920498146511,
          0.012975488353916376,
          0.012403621838267043,
          0.01187795320051066,
          0.011850462290677655,
          0.011556244906767432,
          0.010875277215784962,
          0.010253107718710908,
          0.00955220857751371
         ],
         "yaxis": "y"
        },
        {
         "hovertemplate": "<b>OLS trendline</b><br>value = -0.000218911 * date + 0.454807<br>R<sup>2</sup>=0.830945<br><br>variable=Population<br>Year=%{x}<br>Growth Rate (per year)=%{y} <b>(trend)</b><extra></extra>",
         "legendgroup": "Population",
         "marker": {
          "color": "#636efa",
          "symbol": "circle"
         },
         "mode": "lines",
         "name": "Population",
         "showlegend": false,
         "type": "scatter",
         "x": [
          1962,
          1963,
          1964,
          1965,
          1966,
          1967,
          1968,
          1969,
          1970,
          1971,
          1972,
          1973,
          1974,
          1975,
          1976,
          1977,
          1978,
          1979,
          1980,
          1981,
          1982,
          1983,
          1984,
          1985,
          1986,
          1987,
          1988,
          1989,
          1990,
          1991,
          1992,
          1993,
          1994,
          1995,
          1996,
          1997,
          1998,
          1999,
          2000,
          2001,
          2002,
          2003,
          2004,
          2005,
          2006,
          2007,
          2008,
          2009,
          2010,
          2011,
          2012,
          2013,
          2014,
          2015,
          2016,
          2017,
          2018,
          2019,
          2020
         ],
         "xaxis": "x",
         "y": [
          0.025304000404477278,
          0.025085089453445564,
          0.02486617850241385,
          0.024647267551382135,
          0.02442835660035042,
          0.024209445649318706,
          0.02399053469828699,
          0.023771623747255277,
          0.023552712796223563,
          0.023333801845191904,
          0.02311489089416019,
          0.022895979943128475,
          0.02267706899209676,
          0.022458158041065046,
          0.02223924709003333,
          0.022020336139001617,
          0.021801425187969903,
          0.02158251423693819,
          0.021363603285906474,
          0.02114469233487476,
          0.020925781383843045,
          0.02070687043281133,
          0.020487959481779616,
          0.020269048530747902,
          0.020050137579716187,
          0.019831226628684473,
          0.01961231567765276,
          0.019393404726621044,
          0.01917449377558933,
          0.018955582824557615,
          0.0187366718735259,
          0.018517760922494242,
          0.018298849971462527,
          0.018079939020430813,
          0.0178610280693991,
          0.017642117118367384,
          0.01742320616733567,
          0.017204295216303955,
          0.01698538426527224,
          0.016766473314240526,
          0.016547562363208812,
          0.016328651412177098,
          0.016109740461145383,
          0.01589082951011367,
          0.015671918559081954,
          0.01545300760805024,
          0.015234096657018525,
          0.015015185705986811,
          0.014796274754955097,
          0.014577363803923382,
          0.014358452852891668,
          0.014139541901859953,
          0.013920630950828239,
          0.01370171999979658,
          0.013482809048764866,
          0.013263898097733151,
          0.013044987146701437,
          0.012826076195669722,
          0.012607165244638008
         ],
         "yaxis": "y"
        },
        {
         "hovertemplate": "variable=Food index<br>Year=%{x}<br>Growth Rate (per year)=%{y}<extra></extra>",
         "legendgroup": "Food index",
         "marker": {
          "color": "#EF553B",
          "symbol": "circle"
         },
         "mode": "markers",
         "name": "Food index",
         "orientation": "v",
         "showlegend": true,
         "type": "scatter",
         "x": [
          1962,
          1963,
          1964,
          1965,
          1966,
          1967,
          1968,
          1969,
          1970,
          1971,
          1972,
          1973,
          1974,
          1975,
          1976,
          1977,
          1978,
          1979,
          1980,
          1981,
          1982,
          1983,
          1984,
          1985,
          1986,
          1987,
          1988,
          1989,
          1990,
          1991,
          1992,
          1993,
          1994,
          1995,
          1996,
          1997,
          1998,
          1999,
          2000,
          2001,
          2002,
          2003,
          2004,
          2005,
          2006,
          2007,
          2008,
          2009,
          2010,
          2011,
          2012,
          2013,
          2014,
          2015,
          2016,
          2017,
          2018,
          2019,
          2020
         ],
         "xaxis": "x",
         "y": [
          -0.014369940282952687,
          0.022121917087270848,
          0.02332096362210434,
          -0.047198807411640065,
          -0.004844757329087734,
          0.060390858617490384,
          0.05930352070685929,
          0.031993478380914375,
          0.054985256738986354,
          0.011069564916548646,
          -0.04577624468204844,
          0.07482465632577107,
          -0.037249562976478856,
          0.11039615066262654,
          -0.00966502368922173,
          0.07392296683429134,
          0.035153523694886335,
          -0.05060603537840702,
          0.03451205230514365,
          0.07280075486411253,
          -0.008815484086434733,
          0.11661405653412382,
          0.015636771082483847,
          0.018970433228060468,
          0.015108880424802518,
          -0.006817941069007016,
          0.09468805576705419,
          0.05408980967564814,
          0.010716915835262242,
          0.0167534831960916,
          0.03727139479723185,
          0.0322487638097666,
          0.02909296094166436,
          0.024954838893172848,
          0.034868281119160294,
          0.029276874773713324,
          0.015937888186290827,
          0.04449385099862635,
          -0.005415873973032781,
          0.030560055774058625,
          -0.07871427014657773,
          0.09557656627346667,
          -0.01595976898981366,
          0.051285776692776786,
          0.04932735805834021,
          0.08218442761357458,
          0.018979667912523368,
          -0.023749950621456684,
          0.07290283849885881,
          0.0593851741759055,
          0.02288678798044952,
          0.042299191904246136,
          0.025493376128418177,
          -0.010322933486844654,
          0.04066735387631493,
          0.062289461371766386,
          0.05403823870328761,
          0.002431612140371797,
          0.009410005983661485
         ],
         "yaxis": "y"
        },
        {
         "hovertemplate": "<b>OLS trendline</b><br>value = 0.000204604 * date + -0.379981<br>R<sup>2</sup>=0.007744<br><br>variable=Food index<br>Year=%{x}<br>Growth Rate (per year)=%{y} <b>(trend)</b><extra></extra>",
         "legendgroup": "Food index",
         "marker": {
          "color": "#EF553B",
          "symbol": "circle"
         },
         "mode": "lines",
         "name": "Food index",
         "showlegend": false,
         "type": "scatter",
         "x": [
          1962,
          1963,
          1964,
          1965,
          1966,
          1967,
          1968,
          1969,
          1970,
          1971,
          1972,
          1973,
          1974,
          1975,
          1976,
          1977,
          1978,
          1979,
          1980,
          1981,
          1982,
          1983,
          1984,
          1985,
          1986,
          1987,
          1988,
          1989,
          1990,
          1991,
          1992,
          1993,
          1994,
          1995,
          1996,
          1997,
          1998,
          1999,
          2000,
          2001,
          2002,
          2003,
          2004,
          2005,
          2006,
          2007,
          2008,
          2009,
          2010,
          2011,
          2012,
          2013,
          2014,
          2015,
          2016,
          2017,
          2018,
          2019,
          2020
         ],
         "xaxis": "x",
         "y": [
          0.02145174564942931,
          0.021656349524162732,
          0.0218609533988961,
          0.02206555727362952,
          0.022270161148362944,
          0.02247476502309631,
          0.022679368897829733,
          0.022883972772563155,
          0.02308857664729652,
          0.023293180522029944,
          0.023497784396763366,
          0.023702388271496733,
          0.023906992146230155,
          0.024111596020963577,
          0.024316199895696944,
          0.024520803770430366,
          0.02472540764516379,
          0.024930011519897155,
          0.025134615394630577,
          0.025339219269364,
          0.025543823144097366,
          0.02574842701883079,
          0.02595303089356421,
          0.026157634768297577,
          0.026362238643031,
          0.026566842517764422,
          0.026771446392497844,
          0.02697605026723121,
          0.027180654141964633,
          0.027385258016698055,
          0.027589861891431422,
          0.027794465766164844,
          0.027999069640898266,
          0.028203673515631633,
          0.028408277390365055,
          0.028612881265098478,
          0.028817485139831844,
          0.029022089014565267,
          0.02922669288929869,
          0.029431296764032056,
          0.029635900638765478,
          0.0298405045134989,
          0.030045108388232267,
          0.03024971226296569,
          0.03045431613769911,
          0.030658920012432478,
          0.0308635238871659,
          0.031068127761899322,
          0.03127273163663269,
          0.03147733551136611,
          0.031681939386099534,
          0.0318865432608329,
          0.03209114713556632,
          0.032295751010299745,
          0.03250035488503311,
          0.032704958759766534,
          0.032909562634499956,
          0.03311416650923332,
          0.033318770383966745
         ],
         "yaxis": "y"
        }
       ],
       "layout": {
        "legend": {
         "title": {
          "text": "variable"
         },
         "tracegroupgap": 0
        },
        "template": {
         "data": {
          "bar": [
           {
            "error_x": {
             "color": "#2a3f5f"
            },
            "error_y": {
             "color": "#2a3f5f"
            },
            "marker": {
             "line": {
              "color": "#E5ECF6",
              "width": 0.5
             },
             "pattern": {
              "fillmode": "overlay",
              "size": 10,
              "solidity": 0.2
             }
            },
            "type": "bar"
           }
          ],
          "barpolar": [
           {
            "marker": {
             "line": {
              "color": "#E5ECF6",
              "width": 0.5
             },
             "pattern": {
              "fillmode": "overlay",
              "size": 10,
              "solidity": 0.2
             }
            },
            "type": "barpolar"
           }
          ],
          "carpet": [
           {
            "aaxis": {
             "endlinecolor": "#2a3f5f",
             "gridcolor": "white",
             "linecolor": "white",
             "minorgridcolor": "white",
             "startlinecolor": "#2a3f5f"
            },
            "baxis": {
             "endlinecolor": "#2a3f5f",
             "gridcolor": "white",
             "linecolor": "white",
             "minorgridcolor": "white",
             "startlinecolor": "#2a3f5f"
            },
            "type": "carpet"
           }
          ],
          "choropleth": [
           {
            "colorbar": {
             "outlinewidth": 0,
             "ticks": ""
            },
            "type": "choropleth"
           }
          ],
          "contour": [
           {
            "colorbar": {
             "outlinewidth": 0,
             "ticks": ""
            },
            "colorscale": [
             [
              0,
              "#0d0887"
             ],
             [
              0.1111111111111111,
              "#46039f"
             ],
             [
              0.2222222222222222,
              "#7201a8"
             ],
             [
              0.3333333333333333,
              "#9c179e"
             ],
             [
              0.4444444444444444,
              "#bd3786"
             ],
             [
              0.5555555555555556,
              "#d8576b"
             ],
             [
              0.6666666666666666,
              "#ed7953"
             ],
             [
              0.7777777777777778,
              "#fb9f3a"
             ],
             [
              0.8888888888888888,
              "#fdca26"
             ],
             [
              1,
              "#f0f921"
             ]
            ],
            "type": "contour"
           }
          ],
          "contourcarpet": [
           {
            "colorbar": {
             "outlinewidth": 0,
             "ticks": ""
            },
            "type": "contourcarpet"
           }
          ],
          "heatmap": [
           {
            "colorbar": {
             "outlinewidth": 0,
             "ticks": ""
            },
            "colorscale": [
             [
              0,
              "#0d0887"
             ],
             [
              0.1111111111111111,
              "#46039f"
             ],
             [
              0.2222222222222222,
              "#7201a8"
             ],
             [
              0.3333333333333333,
              "#9c179e"
             ],
             [
              0.4444444444444444,
              "#bd3786"
             ],
             [
              0.5555555555555556,
              "#d8576b"
             ],
             [
              0.6666666666666666,
              "#ed7953"
             ],
             [
              0.7777777777777778,
              "#fb9f3a"
             ],
             [
              0.8888888888888888,
              "#fdca26"
             ],
             [
              1,
              "#f0f921"
             ]
            ],
            "type": "heatmap"
           }
          ],
          "heatmapgl": [
           {
            "colorbar": {
             "outlinewidth": 0,
             "ticks": ""
            },
            "colorscale": [
             [
              0,
              "#0d0887"
             ],
             [
              0.1111111111111111,
              "#46039f"
             ],
             [
              0.2222222222222222,
              "#7201a8"
             ],
             [
              0.3333333333333333,
              "#9c179e"
             ],
             [
              0.4444444444444444,
              "#bd3786"
             ],
             [
              0.5555555555555556,
              "#d8576b"
             ],
             [
              0.6666666666666666,
              "#ed7953"
             ],
             [
              0.7777777777777778,
              "#fb9f3a"
             ],
             [
              0.8888888888888888,
              "#fdca26"
             ],
             [
              1,
              "#f0f921"
             ]
            ],
            "type": "heatmapgl"
           }
          ],
          "histogram": [
           {
            "marker": {
             "pattern": {
              "fillmode": "overlay",
              "size": 10,
              "solidity": 0.2
             }
            },
            "type": "histogram"
           }
          ],
          "histogram2d": [
           {
            "colorbar": {
             "outlinewidth": 0,
             "ticks": ""
            },
            "colorscale": [
             [
              0,
              "#0d0887"
             ],
             [
              0.1111111111111111,
              "#46039f"
             ],
             [
              0.2222222222222222,
              "#7201a8"
             ],
             [
              0.3333333333333333,
              "#9c179e"
             ],
             [
              0.4444444444444444,
              "#bd3786"
             ],
             [
              0.5555555555555556,
              "#d8576b"
             ],
             [
              0.6666666666666666,
              "#ed7953"
             ],
             [
              0.7777777777777778,
              "#fb9f3a"
             ],
             [
              0.8888888888888888,
              "#fdca26"
             ],
             [
              1,
              "#f0f921"
             ]
            ],
            "type": "histogram2d"
           }
          ],
          "histogram2dcontour": [
           {
            "colorbar": {
             "outlinewidth": 0,
             "ticks": ""
            },
            "colorscale": [
             [
              0,
              "#0d0887"
             ],
             [
              0.1111111111111111,
              "#46039f"
             ],
             [
              0.2222222222222222,
              "#7201a8"
             ],
             [
              0.3333333333333333,
              "#9c179e"
             ],
             [
              0.4444444444444444,
              "#bd3786"
             ],
             [
              0.5555555555555556,
              "#d8576b"
             ],
             [
              0.6666666666666666,
              "#ed7953"
             ],
             [
              0.7777777777777778,
              "#fb9f3a"
             ],
             [
              0.8888888888888888,
              "#fdca26"
             ],
             [
              1,
              "#f0f921"
             ]
            ],
            "type": "histogram2dcontour"
           }
          ],
          "mesh3d": [
           {
            "colorbar": {
             "outlinewidth": 0,
             "ticks": ""
            },
            "type": "mesh3d"
           }
          ],
          "parcoords": [
           {
            "line": {
             "colorbar": {
              "outlinewidth": 0,
              "ticks": ""
             }
            },
            "type": "parcoords"
           }
          ],
          "pie": [
           {
            "automargin": true,
            "type": "pie"
           }
          ],
          "scatter": [
           {
            "marker": {
             "colorbar": {
              "outlinewidth": 0,
              "ticks": ""
             }
            },
            "type": "scatter"
           }
          ],
          "scatter3d": [
           {
            "line": {
             "colorbar": {
              "outlinewidth": 0,
              "ticks": ""
             }
            },
            "marker": {
             "colorbar": {
              "outlinewidth": 0,
              "ticks": ""
             }
            },
            "type": "scatter3d"
           }
          ],
          "scattercarpet": [
           {
            "marker": {
             "colorbar": {
              "outlinewidth": 0,
              "ticks": ""
             }
            },
            "type": "scattercarpet"
           }
          ],
          "scattergeo": [
           {
            "marker": {
             "colorbar": {
              "outlinewidth": 0,
              "ticks": ""
             }
            },
            "type": "scattergeo"
           }
          ],
          "scattergl": [
           {
            "marker": {
             "colorbar": {
              "outlinewidth": 0,
              "ticks": ""
             }
            },
            "type": "scattergl"
           }
          ],
          "scattermapbox": [
           {
            "marker": {
             "colorbar": {
              "outlinewidth": 0,
              "ticks": ""
             }
            },
            "type": "scattermapbox"
           }
          ],
          "scatterpolar": [
           {
            "marker": {
             "colorbar": {
              "outlinewidth": 0,
              "ticks": ""
             }
            },
            "type": "scatterpolar"
           }
          ],
          "scatterpolargl": [
           {
            "marker": {
             "colorbar": {
              "outlinewidth": 0,
              "ticks": ""
             }
            },
            "type": "scatterpolargl"
           }
          ],
          "scatterternary": [
           {
            "marker": {
             "colorbar": {
              "outlinewidth": 0,
              "ticks": ""
             }
            },
            "type": "scatterternary"
           }
          ],
          "surface": [
           {
            "colorbar": {
             "outlinewidth": 0,
             "ticks": ""
            },
            "colorscale": [
             [
              0,
              "#0d0887"
             ],
             [
              0.1111111111111111,
              "#46039f"
             ],
             [
              0.2222222222222222,
              "#7201a8"
             ],
             [
              0.3333333333333333,
              "#9c179e"
             ],
             [
              0.4444444444444444,
              "#bd3786"
             ],
             [
              0.5555555555555556,
              "#d8576b"
             ],
             [
              0.6666666666666666,
              "#ed7953"
             ],
             [
              0.7777777777777778,
              "#fb9f3a"
             ],
             [
              0.8888888888888888,
              "#fdca26"
             ],
             [
              1,
              "#f0f921"
             ]
            ],
            "type": "surface"
           }
          ],
          "table": [
           {
            "cells": {
             "fill": {
              "color": "#EBF0F8"
             },
             "line": {
              "color": "white"
             }
            },
            "header": {
             "fill": {
              "color": "#C8D4E3"
             },
             "line": {
              "color": "white"
             }
            },
            "type": "table"
           }
          ]
         },
         "layout": {
          "annotationdefaults": {
           "arrowcolor": "#2a3f5f",
           "arrowhead": 0,
           "arrowwidth": 1
          },
          "autotypenumbers": "strict",
          "coloraxis": {
           "colorbar": {
            "outlinewidth": 0,
            "ticks": ""
           }
          },
          "colorscale": {
           "diverging": [
            [
             0,
             "#8e0152"
            ],
            [
             0.1,
             "#c51b7d"
            ],
            [
             0.2,
             "#de77ae"
            ],
            [
             0.3,
             "#f1b6da"
            ],
            [
             0.4,
             "#fde0ef"
            ],
            [
             0.5,
             "#f7f7f7"
            ],
            [
             0.6,
             "#e6f5d0"
            ],
            [
             0.7,
             "#b8e186"
            ],
            [
             0.8,
             "#7fbc41"
            ],
            [
             0.9,
             "#4d9221"
            ],
            [
             1,
             "#276419"
            ]
           ],
           "sequential": [
            [
             0,
             "#0d0887"
            ],
            [
             0.1111111111111111,
             "#46039f"
            ],
            [
             0.2222222222222222,
             "#7201a8"
            ],
            [
             0.3333333333333333,
             "#9c179e"
            ],
            [
             0.4444444444444444,
             "#bd3786"
            ],
            [
             0.5555555555555556,
             "#d8576b"
            ],
            [
             0.6666666666666666,
             "#ed7953"
            ],
            [
             0.7777777777777778,
             "#fb9f3a"
            ],
            [
             0.8888888888888888,
             "#fdca26"
            ],
            [
             1,
             "#f0f921"
            ]
           ],
           "sequentialminus": [
            [
             0,
             "#0d0887"
            ],
            [
             0.1111111111111111,
             "#46039f"
            ],
            [
             0.2222222222222222,
             "#7201a8"
            ],
            [
             0.3333333333333333,
             "#9c179e"
            ],
            [
             0.4444444444444444,
             "#bd3786"
            ],
            [
             0.5555555555555556,
             "#d8576b"
            ],
            [
             0.6666666666666666,
             "#ed7953"
            ],
            [
             0.7777777777777778,
             "#fb9f3a"
            ],
            [
             0.8888888888888888,
             "#fdca26"
            ],
            [
             1,
             "#f0f921"
            ]
           ]
          },
          "colorway": [
           "#636efa",
           "#EF553B",
           "#00cc96",
           "#ab63fa",
           "#FFA15A",
           "#19d3f3",
           "#FF6692",
           "#B6E880",
           "#FF97FF",
           "#FECB52"
          ],
          "font": {
           "color": "#2a3f5f"
          },
          "geo": {
           "bgcolor": "white",
           "lakecolor": "white",
           "landcolor": "#E5ECF6",
           "showlakes": true,
           "showland": true,
           "subunitcolor": "white"
          },
          "hoverlabel": {
           "align": "left"
          },
          "hovermode": "closest",
          "mapbox": {
           "style": "light"
          },
          "paper_bgcolor": "white",
          "plot_bgcolor": "#E5ECF6",
          "polar": {
           "angularaxis": {
            "gridcolor": "white",
            "linecolor": "white",
            "ticks": ""
           },
           "bgcolor": "#E5ECF6",
           "radialaxis": {
            "gridcolor": "white",
            "linecolor": "white",
            "ticks": ""
           }
          },
          "scene": {
           "xaxis": {
            "backgroundcolor": "#E5ECF6",
            "gridcolor": "white",
            "gridwidth": 2,
            "linecolor": "white",
            "showbackground": true,
            "ticks": "",
            "zerolinecolor": "white"
           },
           "yaxis": {
            "backgroundcolor": "#E5ECF6",
            "gridcolor": "white",
            "gridwidth": 2,
            "linecolor": "white",
            "showbackground": true,
            "ticks": "",
            "zerolinecolor": "white"
           },
           "zaxis": {
            "backgroundcolor": "#E5ECF6",
            "gridcolor": "white",
            "gridwidth": 2,
            "linecolor": "white",
            "showbackground": true,
            "ticks": "",
            "zerolinecolor": "white"
           }
          },
          "shapedefaults": {
           "line": {
            "color": "#2a3f5f"
           }
          },
          "ternary": {
           "aaxis": {
            "gridcolor": "white",
            "linecolor": "white",
            "ticks": ""
           },
           "baxis": {
            "gridcolor": "white",
            "linecolor": "white",
            "ticks": ""
           },
           "bgcolor": "#E5ECF6",
           "caxis": {
            "gridcolor": "white",
            "linecolor": "white",
            "ticks": ""
           }
          },
          "title": {
           "x": 0.05
          },
          "xaxis": {
           "automargin": true,
           "gridcolor": "white",
           "linecolor": "white",
           "ticks": "",
           "title": {
            "standoff": 15
           },
           "zerolinecolor": "white",
           "zerolinewidth": 2
          },
          "yaxis": {
           "automargin": true,
           "gridcolor": "white",
           "linecolor": "white",
           "ticks": "",
           "title": {
            "standoff": 15
           },
           "zerolinecolor": "white",
           "zerolinewidth": 2
          }
         }
        },
        "title": {
         "text": "Growth Rate of Food versus Population over Time"
        },
        "xaxis": {
         "anchor": "y",
         "domain": [
          0,
          1
         ],
         "title": {
          "text": "Year"
         }
        },
        "yaxis": {
         "anchor": "x",
         "domain": [
          0,
          1
         ],
         "title": {
          "text": "Growth Rate (per year)"
         }
        }
       }
      },
      "text/html": [
       "<div>                            <div id=\"5c2afe2a-0750-4ab7-940a-457c62d993bc\" class=\"plotly-graph-div\" style=\"height:525px; width:100%;\"></div>            <script type=\"text/javascript\">                require([\"plotly\"], function(Plotly) {                    window.PLOTLYENV=window.PLOTLYENV || {};                                    if (document.getElementById(\"5c2afe2a-0750-4ab7-940a-457c62d993bc\")) {                    Plotly.newPlot(                        \"5c2afe2a-0750-4ab7-940a-457c62d993bc\",                        [{\"hovertemplate\":\"variable=Population<br>Year=%{x}<br>Growth Rate (per year)=%{y}<extra></extra>\",\"legendgroup\":\"Population\",\"marker\":{\"color\":\"#636efa\",\"symbol\":\"circle\"},\"mode\":\"markers\",\"name\":\"Population\",\"orientation\":\"v\",\"showlegend\":true,\"type\":\"scatter\",\"x\":[1962,1963,1964,1965,1966,1967,1968,1969,1970,1971,1972,1973,1974,1975,1976,1977,1978,1979,1980,1981,1982,1983,1984,1985,1986,1987,1988,1989,1990,1991,1992,1993,1994,1995,1996,1997,1998,1999,2000,2001,2002,2003,2004,2005,2006,2007,2008,2009,2010,2011,2012,2013,2014,2015,2016,2017,2018,2019,2020],\"xaxis\":\"x\",\"y\":[0.023116891632000147,0.023090788996611877,0.023011917955997774,0.022352995857310987,0.021518377682262724,0.02128767358673045,0.021688616310761688,0.022031572336636884,0.02210183277128408,0.022170081758453364,0.02227430961894683,0.022511763068724377,0.022582043807990004,0.022384572772441658,0.022090506141864807,0.02208416587098938,0.02212935178193476,0.022235340611473475,0.022612188534669286,0.02275892991615791,0.022608077794522785,0.0225868924622894,0.022627550515704087,0.022483624013226233,0.022352712473789893,0.022109460301294348,0.0218428179098602,0.021692174813665588,0.021411405389049065,0.02101891053626659,0.02074344244723747,0.020478373609396527,0.020208560198764047,0.01991871229020603,0.019514355014450757,0.01919262595283655,0.01887557864681355,0.018493332514953664,0.01822184002180194,0.018084464212375195,0.01776767874181573,0.017242690322667897,0.01672810870228858,0.01604129169279389,0.015243079604100984,0.014663717500152273,0.014223915088354744,0.013911949303373916,0.013775958115978426,0.013615880845335937,0.013321920498146511,0.012975488353916376,0.012403621838267043,0.01187795320051066,0.011850462290677655,0.011556244906767432,0.010875277215784962,0.010253107718710908,0.00955220857751371],\"yaxis\":\"y\"},{\"hovertemplate\":\"<b>OLS trendline</b><br>value = -0.000218911 * date + 0.454807<br>R<sup>2</sup>=0.830945<br><br>variable=Population<br>Year=%{x}<br>Growth Rate (per year)=%{y} <b>(trend)</b><extra></extra>\",\"legendgroup\":\"Population\",\"marker\":{\"color\":\"#636efa\",\"symbol\":\"circle\"},\"mode\":\"lines\",\"name\":\"Population\",\"showlegend\":false,\"type\":\"scatter\",\"x\":[1962,1963,1964,1965,1966,1967,1968,1969,1970,1971,1972,1973,1974,1975,1976,1977,1978,1979,1980,1981,1982,1983,1984,1985,1986,1987,1988,1989,1990,1991,1992,1993,1994,1995,1996,1997,1998,1999,2000,2001,2002,2003,2004,2005,2006,2007,2008,2009,2010,2011,2012,2013,2014,2015,2016,2017,2018,2019,2020],\"xaxis\":\"x\",\"y\":[0.025304000404477278,0.025085089453445564,0.02486617850241385,0.024647267551382135,0.02442835660035042,0.024209445649318706,0.02399053469828699,0.023771623747255277,0.023552712796223563,0.023333801845191904,0.02311489089416019,0.022895979943128475,0.02267706899209676,0.022458158041065046,0.02223924709003333,0.022020336139001617,0.021801425187969903,0.02158251423693819,0.021363603285906474,0.02114469233487476,0.020925781383843045,0.02070687043281133,0.020487959481779616,0.020269048530747902,0.020050137579716187,0.019831226628684473,0.01961231567765276,0.019393404726621044,0.01917449377558933,0.018955582824557615,0.0187366718735259,0.018517760922494242,0.018298849971462527,0.018079939020430813,0.0178610280693991,0.017642117118367384,0.01742320616733567,0.017204295216303955,0.01698538426527224,0.016766473314240526,0.016547562363208812,0.016328651412177098,0.016109740461145383,0.01589082951011367,0.015671918559081954,0.01545300760805024,0.015234096657018525,0.015015185705986811,0.014796274754955097,0.014577363803923382,0.014358452852891668,0.014139541901859953,0.013920630950828239,0.01370171999979658,0.013482809048764866,0.013263898097733151,0.013044987146701437,0.012826076195669722,0.012607165244638008],\"yaxis\":\"y\"},{\"hovertemplate\":\"variable=Food index<br>Year=%{x}<br>Growth Rate (per year)=%{y}<extra></extra>\",\"legendgroup\":\"Food index\",\"marker\":{\"color\":\"#EF553B\",\"symbol\":\"circle\"},\"mode\":\"markers\",\"name\":\"Food index\",\"orientation\":\"v\",\"showlegend\":true,\"type\":\"scatter\",\"x\":[1962,1963,1964,1965,1966,1967,1968,1969,1970,1971,1972,1973,1974,1975,1976,1977,1978,1979,1980,1981,1982,1983,1984,1985,1986,1987,1988,1989,1990,1991,1992,1993,1994,1995,1996,1997,1998,1999,2000,2001,2002,2003,2004,2005,2006,2007,2008,2009,2010,2011,2012,2013,2014,2015,2016,2017,2018,2019,2020],\"xaxis\":\"x\",\"y\":[-0.014369940282952687,0.022121917087270848,0.02332096362210434,-0.047198807411640065,-0.004844757329087734,0.060390858617490384,0.05930352070685929,0.031993478380914375,0.054985256738986354,0.011069564916548646,-0.04577624468204844,0.07482465632577107,-0.037249562976478856,0.11039615066262654,-0.00966502368922173,0.07392296683429134,0.035153523694886335,-0.05060603537840702,0.03451205230514365,0.07280075486411253,-0.008815484086434733,0.11661405653412382,0.015636771082483847,0.018970433228060468,0.015108880424802518,-0.006817941069007016,0.09468805576705419,0.05408980967564814,0.010716915835262242,0.0167534831960916,0.03727139479723185,0.0322487638097666,0.02909296094166436,0.024954838893172848,0.034868281119160294,0.029276874773713324,0.015937888186290827,0.04449385099862635,-0.005415873973032781,0.030560055774058625,-0.07871427014657773,0.09557656627346667,-0.01595976898981366,0.051285776692776786,0.04932735805834021,0.08218442761357458,0.018979667912523368,-0.023749950621456684,0.07290283849885881,0.0593851741759055,0.02288678798044952,0.042299191904246136,0.025493376128418177,-0.010322933486844654,0.04066735387631493,0.062289461371766386,0.05403823870328761,0.002431612140371797,0.009410005983661485],\"yaxis\":\"y\"},{\"hovertemplate\":\"<b>OLS trendline</b><br>value = 0.000204604 * date + -0.379981<br>R<sup>2</sup>=0.007744<br><br>variable=Food index<br>Year=%{x}<br>Growth Rate (per year)=%{y} <b>(trend)</b><extra></extra>\",\"legendgroup\":\"Food index\",\"marker\":{\"color\":\"#EF553B\",\"symbol\":\"circle\"},\"mode\":\"lines\",\"name\":\"Food index\",\"showlegend\":false,\"type\":\"scatter\",\"x\":[1962,1963,1964,1965,1966,1967,1968,1969,1970,1971,1972,1973,1974,1975,1976,1977,1978,1979,1980,1981,1982,1983,1984,1985,1986,1987,1988,1989,1990,1991,1992,1993,1994,1995,1996,1997,1998,1999,2000,2001,2002,2003,2004,2005,2006,2007,2008,2009,2010,2011,2012,2013,2014,2015,2016,2017,2018,2019,2020],\"xaxis\":\"x\",\"y\":[0.02145174564942931,0.021656349524162732,0.0218609533988961,0.02206555727362952,0.022270161148362944,0.02247476502309631,0.022679368897829733,0.022883972772563155,0.02308857664729652,0.023293180522029944,0.023497784396763366,0.023702388271496733,0.023906992146230155,0.024111596020963577,0.024316199895696944,0.024520803770430366,0.02472540764516379,0.024930011519897155,0.025134615394630577,0.025339219269364,0.025543823144097366,0.02574842701883079,0.02595303089356421,0.026157634768297577,0.026362238643031,0.026566842517764422,0.026771446392497844,0.02697605026723121,0.027180654141964633,0.027385258016698055,0.027589861891431422,0.027794465766164844,0.027999069640898266,0.028203673515631633,0.028408277390365055,0.028612881265098478,0.028817485139831844,0.029022089014565267,0.02922669288929869,0.029431296764032056,0.029635900638765478,0.0298405045134989,0.030045108388232267,0.03024971226296569,0.03045431613769911,0.030658920012432478,0.0308635238871659,0.031068127761899322,0.03127273163663269,0.03147733551136611,0.031681939386099534,0.0318865432608329,0.03209114713556632,0.032295751010299745,0.03250035488503311,0.032704958759766534,0.032909562634499956,0.03311416650923332,0.033318770383966745],\"yaxis\":\"y\"}],                        {\"legend\":{\"title\":{\"text\":\"variable\"},\"tracegroupgap\":0},\"template\":{\"data\":{\"bar\":[{\"error_x\":{\"color\":\"#2a3f5f\"},\"error_y\":{\"color\":\"#2a3f5f\"},\"marker\":{\"line\":{\"color\":\"#E5ECF6\",\"width\":0.5},\"pattern\":{\"fillmode\":\"overlay\",\"size\":10,\"solidity\":0.2}},\"type\":\"bar\"}],\"barpolar\":[{\"marker\":{\"line\":{\"color\":\"#E5ECF6\",\"width\":0.5},\"pattern\":{\"fillmode\":\"overlay\",\"size\":10,\"solidity\":0.2}},\"type\":\"barpolar\"}],\"carpet\":[{\"aaxis\":{\"endlinecolor\":\"#2a3f5f\",\"gridcolor\":\"white\",\"linecolor\":\"white\",\"minorgridcolor\":\"white\",\"startlinecolor\":\"#2a3f5f\"},\"baxis\":{\"endlinecolor\":\"#2a3f5f\",\"gridcolor\":\"white\",\"linecolor\":\"white\",\"minorgridcolor\":\"white\",\"startlinecolor\":\"#2a3f5f\"},\"type\":\"carpet\"}],\"choropleth\":[{\"colorbar\":{\"outlinewidth\":0,\"ticks\":\"\"},\"type\":\"choropleth\"}],\"contour\":[{\"colorbar\":{\"outlinewidth\":0,\"ticks\":\"\"},\"colorscale\":[[0.0,\"#0d0887\"],[0.1111111111111111,\"#46039f\"],[0.2222222222222222,\"#7201a8\"],[0.3333333333333333,\"#9c179e\"],[0.4444444444444444,\"#bd3786\"],[0.5555555555555556,\"#d8576b\"],[0.6666666666666666,\"#ed7953\"],[0.7777777777777778,\"#fb9f3a\"],[0.8888888888888888,\"#fdca26\"],[1.0,\"#f0f921\"]],\"type\":\"contour\"}],\"contourcarpet\":[{\"colorbar\":{\"outlinewidth\":0,\"ticks\":\"\"},\"type\":\"contourcarpet\"}],\"heatmap\":[{\"colorbar\":{\"outlinewidth\":0,\"ticks\":\"\"},\"colorscale\":[[0.0,\"#0d0887\"],[0.1111111111111111,\"#46039f\"],[0.2222222222222222,\"#7201a8\"],[0.3333333333333333,\"#9c179e\"],[0.4444444444444444,\"#bd3786\"],[0.5555555555555556,\"#d8576b\"],[0.6666666666666666,\"#ed7953\"],[0.7777777777777778,\"#fb9f3a\"],[0.8888888888888888,\"#fdca26\"],[1.0,\"#f0f921\"]],\"type\":\"heatmap\"}],\"heatmapgl\":[{\"colorbar\":{\"outlinewidth\":0,\"ticks\":\"\"},\"colorscale\":[[0.0,\"#0d0887\"],[0.1111111111111111,\"#46039f\"],[0.2222222222222222,\"#7201a8\"],[0.3333333333333333,\"#9c179e\"],[0.4444444444444444,\"#bd3786\"],[0.5555555555555556,\"#d8576b\"],[0.6666666666666666,\"#ed7953\"],[0.7777777777777778,\"#fb9f3a\"],[0.8888888888888888,\"#fdca26\"],[1.0,\"#f0f921\"]],\"type\":\"heatmapgl\"}],\"histogram\":[{\"marker\":{\"pattern\":{\"fillmode\":\"overlay\",\"size\":10,\"solidity\":0.2}},\"type\":\"histogram\"}],\"histogram2d\":[{\"colorbar\":{\"outlinewidth\":0,\"ticks\":\"\"},\"colorscale\":[[0.0,\"#0d0887\"],[0.1111111111111111,\"#46039f\"],[0.2222222222222222,\"#7201a8\"],[0.3333333333333333,\"#9c179e\"],[0.4444444444444444,\"#bd3786\"],[0.5555555555555556,\"#d8576b\"],[0.6666666666666666,\"#ed7953\"],[0.7777777777777778,\"#fb9f3a\"],[0.8888888888888888,\"#fdca26\"],[1.0,\"#f0f921\"]],\"type\":\"histogram2d\"}],\"histogram2dcontour\":[{\"colorbar\":{\"outlinewidth\":0,\"ticks\":\"\"},\"colorscale\":[[0.0,\"#0d0887\"],[0.1111111111111111,\"#46039f\"],[0.2222222222222222,\"#7201a8\"],[0.3333333333333333,\"#9c179e\"],[0.4444444444444444,\"#bd3786\"],[0.5555555555555556,\"#d8576b\"],[0.6666666666666666,\"#ed7953\"],[0.7777777777777778,\"#fb9f3a\"],[0.8888888888888888,\"#fdca26\"],[1.0,\"#f0f921\"]],\"type\":\"histogram2dcontour\"}],\"mesh3d\":[{\"colorbar\":{\"outlinewidth\":0,\"ticks\":\"\"},\"type\":\"mesh3d\"}],\"parcoords\":[{\"line\":{\"colorbar\":{\"outlinewidth\":0,\"ticks\":\"\"}},\"type\":\"parcoords\"}],\"pie\":[{\"automargin\":true,\"type\":\"pie\"}],\"scatter\":[{\"marker\":{\"colorbar\":{\"outlinewidth\":0,\"ticks\":\"\"}},\"type\":\"scatter\"}],\"scatter3d\":[{\"line\":{\"colorbar\":{\"outlinewidth\":0,\"ticks\":\"\"}},\"marker\":{\"colorbar\":{\"outlinewidth\":0,\"ticks\":\"\"}},\"type\":\"scatter3d\"}],\"scattercarpet\":[{\"marker\":{\"colorbar\":{\"outlinewidth\":0,\"ticks\":\"\"}},\"type\":\"scattercarpet\"}],\"scattergeo\":[{\"marker\":{\"colorbar\":{\"outlinewidth\":0,\"ticks\":\"\"}},\"type\":\"scattergeo\"}],\"scattergl\":[{\"marker\":{\"colorbar\":{\"outlinewidth\":0,\"ticks\":\"\"}},\"type\":\"scattergl\"}],\"scattermapbox\":[{\"marker\":{\"colorbar\":{\"outlinewidth\":0,\"ticks\":\"\"}},\"type\":\"scattermapbox\"}],\"scatterpolar\":[{\"marker\":{\"colorbar\":{\"outlinewidth\":0,\"ticks\":\"\"}},\"type\":\"scatterpolar\"}],\"scatterpolargl\":[{\"marker\":{\"colorbar\":{\"outlinewidth\":0,\"ticks\":\"\"}},\"type\":\"scatterpolargl\"}],\"scatterternary\":[{\"marker\":{\"colorbar\":{\"outlinewidth\":0,\"ticks\":\"\"}},\"type\":\"scatterternary\"}],\"surface\":[{\"colorbar\":{\"outlinewidth\":0,\"ticks\":\"\"},\"colorscale\":[[0.0,\"#0d0887\"],[0.1111111111111111,\"#46039f\"],[0.2222222222222222,\"#7201a8\"],[0.3333333333333333,\"#9c179e\"],[0.4444444444444444,\"#bd3786\"],[0.5555555555555556,\"#d8576b\"],[0.6666666666666666,\"#ed7953\"],[0.7777777777777778,\"#fb9f3a\"],[0.8888888888888888,\"#fdca26\"],[1.0,\"#f0f921\"]],\"type\":\"surface\"}],\"table\":[{\"cells\":{\"fill\":{\"color\":\"#EBF0F8\"},\"line\":{\"color\":\"white\"}},\"header\":{\"fill\":{\"color\":\"#C8D4E3\"},\"line\":{\"color\":\"white\"}},\"type\":\"table\"}]},\"layout\":{\"annotationdefaults\":{\"arrowcolor\":\"#2a3f5f\",\"arrowhead\":0,\"arrowwidth\":1},\"autotypenumbers\":\"strict\",\"coloraxis\":{\"colorbar\":{\"outlinewidth\":0,\"ticks\":\"\"}},\"colorscale\":{\"diverging\":[[0,\"#8e0152\"],[0.1,\"#c51b7d\"],[0.2,\"#de77ae\"],[0.3,\"#f1b6da\"],[0.4,\"#fde0ef\"],[0.5,\"#f7f7f7\"],[0.6,\"#e6f5d0\"],[0.7,\"#b8e186\"],[0.8,\"#7fbc41\"],[0.9,\"#4d9221\"],[1,\"#276419\"]],\"sequential\":[[0.0,\"#0d0887\"],[0.1111111111111111,\"#46039f\"],[0.2222222222222222,\"#7201a8\"],[0.3333333333333333,\"#9c179e\"],[0.4444444444444444,\"#bd3786\"],[0.5555555555555556,\"#d8576b\"],[0.6666666666666666,\"#ed7953\"],[0.7777777777777778,\"#fb9f3a\"],[0.8888888888888888,\"#fdca26\"],[1.0,\"#f0f921\"]],\"sequentialminus\":[[0.0,\"#0d0887\"],[0.1111111111111111,\"#46039f\"],[0.2222222222222222,\"#7201a8\"],[0.3333333333333333,\"#9c179e\"],[0.4444444444444444,\"#bd3786\"],[0.5555555555555556,\"#d8576b\"],[0.6666666666666666,\"#ed7953\"],[0.7777777777777778,\"#fb9f3a\"],[0.8888888888888888,\"#fdca26\"],[1.0,\"#f0f921\"]]},\"colorway\":[\"#636efa\",\"#EF553B\",\"#00cc96\",\"#ab63fa\",\"#FFA15A\",\"#19d3f3\",\"#FF6692\",\"#B6E880\",\"#FF97FF\",\"#FECB52\"],\"font\":{\"color\":\"#2a3f5f\"},\"geo\":{\"bgcolor\":\"white\",\"lakecolor\":\"white\",\"landcolor\":\"#E5ECF6\",\"showlakes\":true,\"showland\":true,\"subunitcolor\":\"white\"},\"hoverlabel\":{\"align\":\"left\"},\"hovermode\":\"closest\",\"mapbox\":{\"style\":\"light\"},\"paper_bgcolor\":\"white\",\"plot_bgcolor\":\"#E5ECF6\",\"polar\":{\"angularaxis\":{\"gridcolor\":\"white\",\"linecolor\":\"white\",\"ticks\":\"\"},\"bgcolor\":\"#E5ECF6\",\"radialaxis\":{\"gridcolor\":\"white\",\"linecolor\":\"white\",\"ticks\":\"\"}},\"scene\":{\"xaxis\":{\"backgroundcolor\":\"#E5ECF6\",\"gridcolor\":\"white\",\"gridwidth\":2,\"linecolor\":\"white\",\"showbackground\":true,\"ticks\":\"\",\"zerolinecolor\":\"white\"},\"yaxis\":{\"backgroundcolor\":\"#E5ECF6\",\"gridcolor\":\"white\",\"gridwidth\":2,\"linecolor\":\"white\",\"showbackground\":true,\"ticks\":\"\",\"zerolinecolor\":\"white\"},\"zaxis\":{\"backgroundcolor\":\"#E5ECF6\",\"gridcolor\":\"white\",\"gridwidth\":2,\"linecolor\":\"white\",\"showbackground\":true,\"ticks\":\"\",\"zerolinecolor\":\"white\"}},\"shapedefaults\":{\"line\":{\"color\":\"#2a3f5f\"}},\"ternary\":{\"aaxis\":{\"gridcolor\":\"white\",\"linecolor\":\"white\",\"ticks\":\"\"},\"baxis\":{\"gridcolor\":\"white\",\"linecolor\":\"white\",\"ticks\":\"\"},\"bgcolor\":\"#E5ECF6\",\"caxis\":{\"gridcolor\":\"white\",\"linecolor\":\"white\",\"ticks\":\"\"}},\"title\":{\"x\":0.05},\"xaxis\":{\"automargin\":true,\"gridcolor\":\"white\",\"linecolor\":\"white\",\"ticks\":\"\",\"title\":{\"standoff\":15},\"zerolinecolor\":\"white\",\"zerolinewidth\":2},\"yaxis\":{\"automargin\":true,\"gridcolor\":\"white\",\"linecolor\":\"white\",\"ticks\":\"\",\"title\":{\"standoff\":15},\"zerolinecolor\":\"white\",\"zerolinewidth\":2}}},\"title\":{\"text\":\"Growth Rate of Food versus Population over Time\"},\"xaxis\":{\"anchor\":\"y\",\"domain\":[0.0,1.0],\"title\":{\"text\":\"Year\"}},\"yaxis\":{\"anchor\":\"x\",\"domain\":[0.0,1.0],\"title\":{\"text\":\"Growth Rate (per year)\"}}},                        {\"responsive\": true}                    ).then(function(){\n",
       "                            \n",
       "var gd = document.getElementById('5c2afe2a-0750-4ab7-940a-457c62d993bc');\n",
       "var x = new MutationObserver(function (mutations, observer) {{\n",
       "        var display = window.getComputedStyle(gd).display;\n",
       "        if (!display || display === 'none') {{\n",
       "            console.log([gd, 'removed!']);\n",
       "            Plotly.purge(gd);\n",
       "            observer.disconnect();\n",
       "        }}\n",
       "}});\n",
       "\n",
       "// Listen for the removal of the full notebook cells\n",
       "var notebookContainer = gd.closest('#notebook-container');\n",
       "if (notebookContainer) {{\n",
       "    x.observe(notebookContainer, {childList: true});\n",
       "}}\n",
       "\n",
       "// Listen for the clearing of the current output cell\n",
       "var outputEl = gd.closest('.output');\n",
       "if (outputEl) {{\n",
       "    x.observe(outputEl, {childList: true});\n",
       "}}\n",
       "\n",
       "                        })                };                });            </script>        </div>"
      ]
     },
     "metadata": {},
     "output_type": "display_data"
    }
   ],
   "source": [
    "#plt.plot(ag['date'], np.log(ag['Population']))\n",
    "#plt.plot(ag['date'], ag['Food index'])\n",
    "ag_idx = ag.set_index(ag['date']).drop(columns=['date'])\n",
    "ag_asc = ag_idx.sort_index()\n",
    "rates = np.log(ag_asc).diff().dropna()\n",
    "#rates\n",
    "px.scatter(rates, \n",
    "           x=rates.index, \n",
    "           y=['Population', 'Food index'], \n",
    "           labels={\n",
    "               'value': 'Growth Rate (per year)',\n",
    "               'date': 'Year'\n",
    "           },\n",
    "           title='Growth Rate of Food versus Population over Time',\n",
    "           trendline='ols')#, data=pop_growth_rate)\n",
    "#px.scatter(rates, x=rates.index, y='Food index', trendline='ols')#, data=pop_growth_rate)"
   ]
  },
  {
   "cell_type": "code",
   "execution_count": 81,
   "metadata": {},
   "outputs": [
    {
     "data": {
      "text/plain": [
       "Text(0, 0.5, 'Food Production (log)')"
      ]
     },
     "execution_count": 81,
     "metadata": {},
     "output_type": "execute_result"
    },
    {
     "data": {
      "image/png": "[encoded data removed]",
      "text/plain": [
       "<Figure size 640x480 with 1 Axes>"
      ]
     },
     "metadata": {},
     "output_type": "display_data"
    }
   ],
   "source": [
    "ag_idx = ag.set_index(ag['date']).drop(columns=['date'])\n",
    "ag_idx['Food index (log)'] = np.log(ag_idx['Food index'])\n",
    "#ag_idx_log = np.log(ag_idx).dropna()\n",
    "plt.scatter('Population', 'Food index (log)', data=ag_idx)\n",
    "plt.xlabel('Population')\n",
    "plt.ylabel('Food Production (log)')"
   ]
  },
  {
   "cell_type": "markdown",
   "metadata": {},
   "source": []
  }
 ],
 "metadata": {
  "kernelspec": {
   "display_name": "Python 3 (ipykernel)",
   "language": "python",
   "name": "python3"
  },
  "language_info": {
   "codemirror_mode": {
    "name": "ipython",
    "version": 3
   },
   "file_extension": ".py",
   "mimetype": "text/x-python",
   "name": "python",
   "nbconvert_exporter": "python",
   "pygments_lexer": "ipython3",
   "version": "3.9.15"
  },
  "vscode": {
   "interpreter": {
    "hash": "0d7b79b7a08b421479373c2fc36c4a73f30a8728c20eee3c2b8f5f83aca300c4"
   }
  }
 },
 "nbformat": 4,
 "nbformat_minor": 2
}
