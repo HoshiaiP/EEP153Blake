{
 "cells": [
  {
   "cell_type": "code",
   "execution_count": 1,
   "metadata": {},
   "outputs": [
    {
     "name": "stdout",
     "output_type": "stream",
     "text": [
      "Collecting wbdata\n",
      "  Using cached wbdata-0.3.0-py3-none-any.whl (14 kB)\n",
      "Requirement already satisfied: requests>=2.0 in /opt/conda/lib/python3.9/site-packages (from wbdata) (2.26.0)\n",
      "Requirement already satisfied: tabulate>=0.8.5 in /opt/conda/lib/python3.9/site-packages (from wbdata) (0.9.0)\n",
      "Requirement already satisfied: appdirs<2.0,>=1.4 in /opt/conda/lib/python3.9/site-packages (from wbdata) (1.4.4)\n",
      "Requirement already satisfied: decorator>=4.0 in /opt/conda/lib/python3.9/site-packages (from wbdata) (5.0.9)\n",
      "Requirement already satisfied: urllib3<1.27,>=1.21.1 in /opt/conda/lib/python3.9/site-packages (from requests>=2.0->wbdata) (1.26.7)\n",
      "Requirement already satisfied: idna<4,>=2.5 in /opt/conda/lib/python3.9/site-packages (from requests>=2.0->wbdata) (3.1)\n",
      "Requirement already satisfied: charset-normalizer~=2.0.0 in /opt/conda/lib/python3.9/site-packages (from requests>=2.0->wbdata) (2.0.0)\n",
      "Requirement already satisfied: certifi>=2017.4.17 in /opt/conda/lib/python3.9/site-packages (from requests>=2.0->wbdata) (2021.10.8)\n",
      "Installing collected packages: wbdata\n",
      "Successfully installed wbdata-0.3.0\n"
     ]
    }
   ],
   "source": [
    "!pip install wbdata\n",
    "import wbdata"
   ]
  },
  {
   "cell_type": "markdown",
   "metadata": {},
   "source": []
  },
  {
   "cell_type": "code",
   "execution_count": 3,
   "metadata": {},
   "outputs": [
    {
     "name": "stdout",
     "output_type": "stream",
     "text": [
      "['0004', '0509', '1014', '1519', '2024', '2529', '3034', '3539', '4044', '4549', '5054', '5559', '6064', '6569', '7074', '7579', '80UP']\n"
     ]
    }
   ],
   "source": [
    "# Data from WDI on age-sex comes in the forms of variables\n",
    "# which take the form \"SP.POP.LLHH.MA\" for males\n",
    "# and \"SP.POP.LLHH.FE\" for females, where LL is the *low* end of\n",
    "# age range, like \"05\" for 5-yo, and HH is the *high* end.\n",
    "\n",
    "# We construct a list of age-ranges.\n",
    "\n",
    "# Start with an empty list of age-rages\n",
    "age_ranges = []\n",
    "\n",
    "# Ranges top out at 80, and go in five year increments\n",
    "for i in range(0,80,5):\n",
    "    age_ranges.append(f\"{i:02d}\"+f\"{i+4:02d}\")\n",
    "\n",
    "age_ranges.append(\"80UP\")\n",
    "\n",
    "print(age_ranges)"
   ]
  },
  {
   "cell_type": "code",
   "execution_count": 4,
   "metadata": {},
   "outputs": [
    {
     "name": "stdout",
     "output_type": "stream",
     "text": [
      "{'SP.POP.0004.MA': 'males 0004', 'SP.POP.0509.MA': 'males 0509', 'SP.POP.1014.MA': 'males 1014', 'SP.POP.1519.MA': 'males 1519', 'SP.POP.2024.MA': 'males 2024', 'SP.POP.2529.MA': 'males 2529', 'SP.POP.3034.MA': 'males 3034', 'SP.POP.3539.MA': 'males 3539', 'SP.POP.4044.MA': 'males 4044', 'SP.POP.4549.MA': 'males 4549', 'SP.POP.5054.MA': 'males 5054', 'SP.POP.5559.MA': 'males 5559', 'SP.POP.6064.MA': 'males 6064', 'SP.POP.6569.MA': 'males 6569', 'SP.POP.7074.MA': 'males 7074', 'SP.POP.7579.MA': 'males 7579', 'SP.POP.80UP.MA': 'males 80UP', 'SP.POP.0004.FE': 'females 0004', 'SP.POP.0509.FE': 'females 0509', 'SP.POP.1014.FE': 'females 1014', 'SP.POP.1519.FE': 'females 1519', 'SP.POP.2024.FE': 'females 2024', 'SP.POP.2529.FE': 'females 2529', 'SP.POP.3034.FE': 'females 3034', 'SP.POP.3539.FE': 'females 3539', 'SP.POP.4044.FE': 'females 4044', 'SP.POP.4549.FE': 'females 4549', 'SP.POP.5054.FE': 'females 5054', 'SP.POP.5559.FE': 'females 5559', 'SP.POP.6064.FE': 'females 6064', 'SP.POP.6569.FE': 'females 6569', 'SP.POP.7074.FE': 'females 7074', 'SP.POP.7579.FE': 'females 7579', 'SP.POP.80UP.FE': 'females 80UP'}\n"
     ]
    }
   ],
   "source": [
    "male_variables = {\"SP.POP.\"+age_range+\".MA\":\"males \"+age_range for age_range in age_ranges}\n",
    "female_variables = {\"SP.POP.\"+age_range+\".FE\":\"females \"+age_range for age_range in age_ranges}\n",
    "\n",
    "variables = male_variables\n",
    "variables.update(female_variables)\n",
    "\n",
    "print(variables)"
   ]
  },
  {
   "cell_type": "code",
   "execution_count": 12,
   "metadata": {},
   "outputs": [
    {
     "name": "stdout",
     "output_type": "stream",
     "text": [
      "       Males 0004   Males 0509   Males 1014   Males 1519   Males 2024  \\\n",
      "date                                                                    \n",
      "2021  344650023.0  351823148.0  340134768.0  321211465.0  309096185.0   \n",
      "2020  348843527.0  350861843.0  336694403.0  319186586.0  307711749.0   \n",
      "2019  351934193.0  349385852.0  332876020.0  317132294.0  306772989.0   \n",
      "2018  354088174.0  347389724.0  329029796.0  315050425.0  306524173.0   \n",
      "2017  355156429.0  344546700.0  325497715.0  313205095.0  306617594.0   \n",
      "...           ...          ...          ...          ...          ...   \n",
      "1964  239069096.0  208246346.0  184392252.0  148807806.0  127455138.0   \n",
      "1963  230599710.0  206420446.0  178823880.0  142714269.0  127354732.0   \n",
      "1962  224041736.0  202783378.0  172741508.0  137464629.0  127460456.0   \n",
      "1961  222196886.0  198854626.0  166558402.0  133606813.0  127266768.0   \n",
      "1960  223557787.0  194920004.0  160122897.0  132065258.0  126570596.0   \n",
      "\n",
      "       Males 2529   Males 3034   Males 3539   Males 4044   Males 4549  ...  \\\n",
      "date                                                                   ...   \n",
      "2021  304184176.0  308770323.0  283342013.0  252677526.0  238749207.0  ...   \n",
      "2020  306243509.0  306298288.0  278670739.0  248265041.0  239380760.0  ...   \n",
      "2019  308834036.0  301641071.0  273910394.0  245159887.0  239140834.0  ...   \n",
      "2018  310713277.0  296708276.0  268841828.0  244013351.0  237876277.0  ...   \n",
      "2017  312088503.0  291846258.0  262872609.0  244088949.0  235227618.0  ...   \n",
      "...           ...          ...          ...          ...          ...  ...   \n",
      "1964  121422713.0  110824195.0  100054082.0   84372619.0   69911656.0  ...   \n",
      "1963  119803597.0  110055390.0   97620862.0   81693176.0   70103561.0  ...   \n",
      "1962  117908655.0  109009916.0   94997885.0   78961209.0   70650140.0  ...   \n",
      "1961  116117718.0  107726675.0   92485715.0   76773033.0   71125782.0  ...   \n",
      "1960  115125109.0  106059293.0   90503442.0   75194713.0   71443112.0  ...   \n",
      "\n",
      "      Females 3539  Females 4044  Females 4549  Females 5054  Females 5559  \\\n",
      "date                                                                         \n",
      "2021   274082515.0   246330684.0   235743243.0   224896102.0   202707064.0   \n",
      "2020   269562260.0   242158101.0   236459269.0   221445209.0   195902317.0   \n",
      "2019   264928936.0   239265144.0   236341845.0   218144169.0   188568634.0   \n",
      "2018   260070368.0   238289828.0   235273671.0   215725423.0   181123022.0   \n",
      "2017   254392892.0   238513311.0   232882421.0   213417113.0   175533333.0   \n",
      "...            ...           ...           ...           ...           ...   \n",
      "1964    99124268.0    86881882.0    72524891.0    70298450.0    60863138.0   \n",
      "1963    97727674.0    84048060.0    72901051.0    69368917.0    59563389.0   \n",
      "1962    96087541.0    81062908.0    73668493.0    68294348.0    58353159.0   \n",
      "1961    94252522.0    78630962.0    74334706.0    67232756.0    57238666.0   \n",
      "1960    92535492.0    76922502.0    74699893.0    66247630.0    56336109.0   \n",
      "\n",
      "      Females 6064  Females 6569  Females 7074  Females 7579  Females 80UP  \n",
      "date                                                                        \n",
      "2021   165954976.0   145660097.0   109247654.0    71828549.0    95845624.0  \n",
      "2020   165545454.0   141973645.0   103935445.0    70462837.0    94014398.0  \n",
      "2019   164724422.0   137228598.0    98120908.0    69603886.0    91536492.0  \n",
      "2018   162791878.0   132182084.0    92955177.0    68827619.0    88876981.0  \n",
      "2017   159421927.0   126840509.0    88462740.0    68171738.0    86148342.0  \n",
      "...            ...           ...           ...           ...           ...  \n",
      "1964    49896011.0    38267820.0    26880855.0    17371906.0    13009636.0  \n",
      "1963    48676464.0    37307082.0    26387818.0    16790332.0    12587661.0  \n",
      "1962    47453135.0    36251659.0    26019479.0    16202664.0    12237753.0  \n",
      "1961    46346218.0    35283959.0    25648744.0    15739382.0    11915207.0  \n",
      "1960    45368022.0    34507949.0    25342528.0    15396598.0    11637144.0  \n",
      "\n",
      "[62 rows x 34 columns]\n",
      "Males 0004      348843527.0\n",
      "Males 0509      350861843.0\n",
      "Males 1014      336694403.0\n",
      "Males 1519      319186586.0\n",
      "Males 2024      307711749.0\n",
      "Males 2529      306243509.0\n",
      "Males 3034      306298288.0\n",
      "Males 3539      278670739.0\n",
      "Males 4044      248265041.0\n",
      "Males 4549      239380760.0\n",
      "Males 5054      220302564.0\n",
      "Males 5559      189880511.0\n",
      "Males 6064      154455368.0\n",
      "Males 6569      126216520.0\n",
      "Males 7074       87919280.0\n",
      "Males 7579       55253441.0\n",
      "Males 80UP       57363155.0\n",
      "Females 0004    329071642.0\n",
      "Females 0509    329225029.0\n",
      "Females 1014    315221758.0\n",
      "Females 1519    299112617.0\n",
      "Females 2024    289115754.0\n",
      "Females 2529    290548637.0\n",
      "Females 3034    293679967.0\n",
      "Females 3539    269562260.0\n",
      "Females 4044    242158101.0\n",
      "Females 4549    236459269.0\n",
      "Females 5054    221445209.0\n",
      "Females 5559    195902317.0\n",
      "Females 6064    165545454.0\n",
      "Females 6569    141973645.0\n",
      "Females 7074    103935445.0\n",
      "Females 7579     70462837.0\n",
      "Females 80UP     94014398.0\n",
      "dtype: float64\n"
     ]
    }
   ],
   "source": [
    "# WLD is the World; substitute your own code or list of codes.\n",
    "# Remember you can search for the appropriate codes using\n",
    "# wbdata.search_countries(\"\")\n",
    "\n",
    "df = wbdata.get_dataframe(variables,country=\"WLD\")\n",
    "print(df)\n",
    "print(df.query(\"date=='2020'\").sum(axis=0))"
   ]
  },
  {
   "cell_type": "code",
   "execution_count": 65,
   "metadata": {},
   "outputs": [],
   "source": [
    "def population(year, sex, age_group, country):\n",
    "    \n",
    "    country_label = wbdata.search_countries(country)[0]['id']\n",
    "\n",
    "    df = wbdata.get_dataframe(variables,country=country_label).loc[[str(year)]]\n",
    "\n",
    "    # for males\n",
    "    if sex == 'male':\n",
    "        start_idx = age_group[0] // 5\n",
    "        end_idx = age_group[1] // 5 + 1\n",
    "        df2 = df.iloc[:, start_idx:end_idx]\n",
    "\n",
    "    # for females\n",
    "    if sex == 'female':\n",
    "        start_idx = age_group[0] // 5 + len(df.columns)//2\n",
    "        end_idx = age_group[1] // 5 + 1 + len(df.columns)//2\n",
    "        df2 = df.iloc[:, start_idx:end_idx]\n",
    "\n",
    "    if sex == 'people':\n",
    "        start_idx_m = age_group[0] // 5\n",
    "        end_idx_m = age_group[1] // 5 + 1\n",
    "        start_idx_f = age_group[0] // 5 + len(df.columns)//2\n",
    "        end_idx_f = age_group[1] // 5 + 1 + len(df.columns)//2\n",
    "\n",
    "        df2 = df.iloc[:, start_idx_m:end_idx_m]\n",
    "        df3 = df.iloc[:, start_idx_f:end_idx_f]\n",
    "        df2 = df2.join(df3)\n",
    "    sum = df2.sum(axis='columns')[0]\n",
    "    \n",
    "    return sum\n",
    "    "
   ]
  },
  {
   "cell_type": "code",
   "execution_count": 8,
   "metadata": {},
   "outputs": [
    {
     "data": {
      "text/plain": [
       "id    name\n",
       "----  ------\n",
       "FRA   France"
      ]
     },
     "execution_count": 8,
     "metadata": {},
     "output_type": "execute_result"
    }
   ],
   "source": [
    "wbdata.search_countries(\"France\")"
   ]
  },
  {
   "cell_type": "code",
   "execution_count": 60,
   "metadata": {},
   "outputs": [
    {
     "name": "stdout",
     "output_type": "stream",
     "text": [
      "      males 0004  males 0509  males 1014  males 1519  males 2024  males 2529  \\\n",
      "date                                                                           \n",
      "2020  60771735.0  63921193.0  65906417.0  67689391.0  65745248.0  62448056.0   \n",
      "\n",
      "      males 3034  males 3539  males 4044  males 4549  ...  females 3539  \\\n",
      "date                                                  ...                 \n",
      "2020  58647559.0  53259451.0  46635684.0  41235304.0  ...    49403314.0   \n",
      "\n",
      "      females 4044  females 4549  females 5054  females 5559  females 6064  \\\n",
      "date                                                                         \n",
      "2020    43621841.0    39150349.0    34130103.0    29401712.0    24542975.0   \n",
      "\n",
      "      females 6569  females 7074  females 7579  females 80UP  \n",
      "date                                                          \n",
      "2020    19232661.0    12886752.0     8263871.0     8441710.0  \n",
      "\n",
      "[1 rows x 34 columns]\n"
     ]
    },
    {
     "data": {
      "text/plain": [
       "238907978.0"
      ]
     },
     "execution_count": 60,
     "metadata": {},
     "output_type": "execute_result"
    }
   ],
   "source": [
    "date = '2020'\n",
    "sex = 'people'\n",
    "age_group = (0,9)\n",
    "country = 'India'\n",
    "\n",
    "country_label = wbdata.search_countries(country)[0]['id']\n",
    "\n",
    "df = wbdata.get_dataframe(variables,country=country_label).loc[[date]]\n",
    "\n",
    "# for males\n",
    "if sex == 'male':\n",
    "    start_idx = age_group[0] // 5\n",
    "    end_idx = age_group[1] // 5 + 1\n",
    "    df2 = df.iloc[:, start_idx:end_idx]\n",
    "\n",
    "# for females\n",
    "if sex == 'female':\n",
    "    start_idx = age_group[0] // 5 + len(df.columns)//2\n",
    "    end_idx = age_group[1] // 5 + 1 + len(df.columns)//2\n",
    "    df2 = df.iloc[:, start_idx:end_idx]\n",
    "\n",
    "if sex == 'people':\n",
    "    start_idx_m = age_group[0] // 5\n",
    "    end_idx_m = age_group[1] // 5 + 1\n",
    "    start_idx_f = age_group[0] // 5 + len(df.columns)//2\n",
    "    end_idx_f = age_group[1] // 5 + 1 + len(df.columns)//2\n",
    "    \n",
    "    df2 = df.iloc[:, start_idx_m:end_idx_m]\n",
    "    df3 = df.iloc[:, start_idx_f:end_idx_f]\n",
    "    df2 = df2.join(df3)\n",
    "\n",
    "print(df)\n",
    "#colname\n",
    "sum = df2.sum(axis='columns')[0]\n",
    "sum"
   ]
  },
  {
   "cell_type": "code",
   "execution_count": 72,
   "metadata": {},
   "outputs": [
    {
     "data": {
      "text/plain": [
       "1366273444.0"
      ]
     },
     "execution_count": 72,
     "metadata": {},
     "output_type": "execute_result"
    }
   ],
   "source": [
    "# test\n",
    "population(year = 2020, sex = 'people', age_group = (0,72) , country = 'India')"
   ]
  },
  {
   "cell_type": "code",
   "execution_count": 67,
   "metadata": {},
   "outputs": [],
   "source": [
    "def population_df(year, country):\n",
    "    \n",
    "    country_label = wbdata.search_countries(country)[0]['id']\n",
    "\n",
    "    df = wbdata.get_dataframe(variables,country=country_label).loc[[str(year)]]\n",
    "    \n",
    "    return df"
   ]
  },
  {
   "cell_type": "code",
   "execution_count": 69,
   "metadata": {},
   "outputs": [
    {
     "data": {
      "text/html": [
       "<div>\n",
       "<style scoped>\n",
       "    .dataframe tbody tr th:only-of-type {\n",
       "        vertical-align: middle;\n",
       "    }\n",
       "\n",
       "    .dataframe tbody tr th {\n",
       "        vertical-align: top;\n",
       "    }\n",
       "\n",
       "    .dataframe thead th {\n",
       "        text-align: right;\n",
       "    }\n",
       "</style>\n",
       "<table border=\"1\" class=\"dataframe\">\n",
       "  <thead>\n",
       "    <tr style=\"text-align: right;\">\n",
       "      <th></th>\n",
       "      <th>males 0004</th>\n",
       "      <th>males 0509</th>\n",
       "      <th>males 1014</th>\n",
       "      <th>males 1519</th>\n",
       "      <th>males 2024</th>\n",
       "      <th>males 2529</th>\n",
       "      <th>males 3034</th>\n",
       "      <th>males 3539</th>\n",
       "      <th>males 4044</th>\n",
       "      <th>males 4549</th>\n",
       "      <th>...</th>\n",
       "      <th>females 3539</th>\n",
       "      <th>females 4044</th>\n",
       "      <th>females 4549</th>\n",
       "      <th>females 5054</th>\n",
       "      <th>females 5559</th>\n",
       "      <th>females 6064</th>\n",
       "      <th>females 6569</th>\n",
       "      <th>females 7074</th>\n",
       "      <th>females 7579</th>\n",
       "      <th>females 80UP</th>\n",
       "    </tr>\n",
       "    <tr>\n",
       "      <th>date</th>\n",
       "      <th></th>\n",
       "      <th></th>\n",
       "      <th></th>\n",
       "      <th></th>\n",
       "      <th></th>\n",
       "      <th></th>\n",
       "      <th></th>\n",
       "      <th></th>\n",
       "      <th></th>\n",
       "      <th></th>\n",
       "      <th></th>\n",
       "      <th></th>\n",
       "      <th></th>\n",
       "      <th></th>\n",
       "      <th></th>\n",
       "      <th></th>\n",
       "      <th></th>\n",
       "      <th></th>\n",
       "      <th></th>\n",
       "      <th></th>\n",
       "      <th></th>\n",
       "    </tr>\n",
       "  </thead>\n",
       "  <tbody>\n",
       "    <tr>\n",
       "      <th>2010</th>\n",
       "      <td>66762871.0</td>\n",
       "      <td>68255358.0</td>\n",
       "      <td>66546666.0</td>\n",
       "      <td>63573345.0</td>\n",
       "      <td>59980845.0</td>\n",
       "      <td>54762384.0</td>\n",
       "      <td>48366584.0</td>\n",
       "      <td>43303427.0</td>\n",
       "      <td>38034285.0</td>\n",
       "      <td>33541016.0</td>\n",
       "      <td>...</td>\n",
       "      <td>40312726.0</td>\n",
       "      <td>35674000.0</td>\n",
       "      <td>31620289.0</td>\n",
       "      <td>27284255.0</td>\n",
       "      <td>22666716.0</td>\n",
       "      <td>16756598.0</td>\n",
       "      <td>12493226.0</td>\n",
       "      <td>9550058.0</td>\n",
       "      <td>6198965.0</td>\n",
       "      <td>5282991.0</td>\n",
       "    </tr>\n",
       "  </tbody>\n",
       "</table>\n",
       "<p>1 rows × 34 columns</p>\n",
       "</div>"
      ],
      "text/plain": [
       "      males 0004  males 0509  males 1014  males 1519  males 2024  males 2529  \\\n",
       "date                                                                           \n",
       "2010  66762871.0  68255358.0  66546666.0  63573345.0  59980845.0  54762384.0   \n",
       "\n",
       "      males 3034  males 3539  males 4044  males 4549  ...  females 3539  \\\n",
       "date                                                  ...                 \n",
       "2010  48366584.0  43303427.0  38034285.0  33541016.0  ...    40312726.0   \n",
       "\n",
       "      females 4044  females 4549  females 5054  females 5559  females 6064  \\\n",
       "date                                                                         \n",
       "2010    35674000.0    31620289.0    27284255.0    22666716.0    16756598.0   \n",
       "\n",
       "      females 6569  females 7074  females 7579  females 80UP  \n",
       "date                                                          \n",
       "2010    12493226.0     9550058.0     6198965.0     5282991.0  \n",
       "\n",
       "[1 rows x 34 columns]"
      ]
     },
     "execution_count": 69,
     "metadata": {},
     "output_type": "execute_result"
    }
   ],
   "source": [
    "population_df(year=2010, country='India')"
   ]
  },
  {
   "cell_type": "code",
   "execution_count": null,
   "metadata": {},
   "outputs": [],
   "source": []
  }
 ],
 "metadata": {
  "kernelspec": {
   "display_name": "Python 3 (ipykernel)",
   "language": "python",
   "name": "python3"
  },
  "language_info": {
   "codemirror_mode": {
    "name": "ipython",
    "version": 3
   },
   "file_extension": ".py",
   "mimetype": "text/x-python",
   "name": "python",
   "nbconvert_exporter": "python",
   "pygments_lexer": "ipython3",
   "version": "3.9.15"
  },
  "vscode": {
   "interpreter": {
    "hash": "0d7b79b7a08b421479373c2fc36c4a73f30a8728c20eee3c2b8f5f83aca300c4"
   }
  }
 },
 "nbformat": 4,
 "nbformat_minor": 2
}
